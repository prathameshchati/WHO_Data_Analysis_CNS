{
 "cells": [
  {
   "cell_type": "markdown",
   "id": "5d846e84",
   "metadata": {},
   "source": [
    "### Import Packages"
   ]
  },
  {
   "cell_type": "markdown",
   "id": "9042f045",
   "metadata": {},
   "source": [
    "#### Resizing Notebook"
   ]
  },
  {
   "cell_type": "code",
   "execution_count": 204,
   "id": "bb5e7cb3",
   "metadata": {},
   "outputs": [
    {
     "data": {
      "text/html": [
       "<style>.container { width:100% !important; }</style>"
      ],
      "text/plain": [
       "<IPython.core.display.HTML object>"
      ]
     },
     "metadata": {},
     "output_type": "display_data"
    }
   ],
   "source": [
    "from IPython.display import display, HTML\n",
    "display(HTML(\"<style>.container { width:100% !important; }</style>\"))"
   ]
  },
  {
   "cell_type": "markdown",
   "id": "cf9eb26d",
   "metadata": {},
   "source": [
    "#### Suppress Warnings"
   ]
  },
  {
   "cell_type": "code",
   "execution_count": 3,
   "id": "66511f4f",
   "metadata": {},
   "outputs": [],
   "source": [
    "import warnings\n",
    "warnings.simplefilter(action='ignore', category=FutureWarning)"
   ]
  },
  {
   "cell_type": "markdown",
   "id": "c732c3b3",
   "metadata": {},
   "source": [
    "#### General"
   ]
  },
  {
   "cell_type": "code",
   "execution_count": 4,
   "id": "5efafcba",
   "metadata": {},
   "outputs": [],
   "source": [
    "# import importlib\n",
    "# importlib.reload(mpl); importlib.reload(plt); importlib.reload(sns)"
   ]
  },
  {
   "cell_type": "code",
   "execution_count": 209,
   "id": "c1040a88",
   "metadata": {},
   "outputs": [],
   "source": [
    "import pandas as pd\n",
    "pd.set_option('display.max_rows', 300)\n",
    "pd.set_option('display.max_columns', 300)\n",
    "import numpy as np\n",
    "import os as os\n",
    "import collections\n",
    "import random\n",
    "import math\n",
    "from time import sleep\n",
    "import sys\n",
    "from tqdm import tqdm"
   ]
  },
  {
   "cell_type": "markdown",
   "id": "10e1a2ed",
   "metadata": {},
   "source": [
    "#### Graphing"
   ]
  },
  {
   "cell_type": "code",
   "execution_count": 6,
   "id": "35a95552",
   "metadata": {},
   "outputs": [],
   "source": [
    "import networkx as nx\n",
    "# import networkx.algorithms.community as nxac\n",
    "# import community.community_louvain as community_louvain\n",
    "# from networkx.algorithms.community.centrality import girvan_newman\n",
    "import scanpy as sc\n",
    "from collections import defaultdict\n",
    "from matplotlib.pyplot import figure\n",
    "import matplotlib"
   ]
  },
  {
   "cell_type": "markdown",
   "id": "e5e69134",
   "metadata": {},
   "source": [
    "#### Visualization"
   ]
  },
  {
   "cell_type": "code",
   "execution_count": 7,
   "id": "af6b2ebf",
   "metadata": {},
   "outputs": [],
   "source": [
    "import seaborn as sns\n",
    "from matplotlib import rcParams\n",
    "from matplotlib import pyplot as plt\n",
    "from matplotlib.pyplot import figure\n",
    "import matplotlib.cm as cm\n",
    "%matplotlib inline\n",
    "# plt.rcParams.update(plt.rcParamsDefault)\n",
    "plt.rcParams.update({'figure.figsize': (14, 8)})\n",
    "# sns.set_style(\"darkgrid\")\n",
    "# sns.set(rc = {'figure.figsize':(14,8)})\n",
    "from sklearn.metrics import plot_confusion_matrix\n",
    "from tabulate import tabulate\n",
    "import random\n",
    "from random import sample"
   ]
  },
  {
   "cell_type": "markdown",
   "id": "a0072162",
   "metadata": {},
   "source": [
    "#### Figure Configuration"
   ]
  },
  {
   "cell_type": "code",
   "execution_count": 210,
   "id": "7731584c",
   "metadata": {},
   "outputs": [],
   "source": [
    "import matplotlib\n",
    "matplotlib.rcParams['pdf.fonttype'] = 42\n",
    "matplotlib.rcParams['ps.fonttype'] = 42\n",
    "plt.rcParams['figure.dpi'] = 300"
   ]
  },
  {
   "cell_type": "markdown",
   "id": "4c599606",
   "metadata": {},
   "source": [
    "#### Analysis"
   ]
  },
  {
   "cell_type": "code",
   "execution_count": 9,
   "id": "08303642",
   "metadata": {},
   "outputs": [],
   "source": [
    "import statistics\n",
    "import scipy as sp\n",
    "# from lifelines import KaplanMeierFitter\n",
    "# from lifelines.statistics import logrank_test\n",
    "from scipy.stats import pearsonr\n",
    "from scipy.stats import spearmanr\n",
    "from scipy.stats import fisher_exact\n",
    "# import gseapy as gp\n",
    "from sklearn.linear_model import LinearRegression\n",
    "from sklearn.metrics import r2_score\n",
    "import statsmodels.api as sm\n",
    "from sklearn.preprocessing import MinMaxScaler\n",
    "from random import randint\n",
    "from sklearn.model_selection import cross_val_score\n",
    "from sklearn.metrics import classification_report, confusion_matrix\n",
    "import matplotlib.pyplot as plt\n",
    "import seaborn as sns\n",
    "from sklearn.model_selection import train_test_split\n",
    "from sklearn.metrics import accuracy_score, classification_report, confusion_matrix, cohen_kappa_score\n",
    "from sklearn.preprocessing import MinMaxScaler\n",
    "from sklearn.metrics import precision_recall_curve\n",
    "from sklearn.metrics import auc\n",
    "import random\n",
    "from scipy import stats"
   ]
  },
  {
   "cell_type": "code",
   "execution_count": 10,
   "id": "1c2754d8",
   "metadata": {},
   "outputs": [],
   "source": [
    "# general packages\n",
    "import warnings\n",
    "warnings.simplefilter(action='ignore', category=FutureWarning)\n",
    "import pandas as pd\n",
    "pd.options.display.max_rows = 300\n",
    "# import mygene\n",
    "# mg = mygene.MyGeneInfo()\n",
    "import numpy as np\n",
    "import statistics\n",
    "import seaborn as sns\n",
    "import scanpy as sc\n",
    "import matplotlib.pyplot as plt\n",
    "%matplotlib inline \n",
    "import matplotlib as mpl\n",
    "from matplotlib.pyplot import figure\n",
    "from sklearn.preprocessing import StandardScaler\n",
    "from sklearn.decomposition import PCA\n",
    "# from pandas_profiling import ProfileReport\n",
    "# from bioinfokit.analys import norm\n",
    "import os\n",
    "import fastcluster as fc\n",
    "import scipy.cluster as scpc\n",
    "from scipy.cluster.hierarchy import dendrogram, linkage, leaves_list\n",
    "import sklearn\n",
    "from sklearn.cluster import KMeans\n",
    "from sklearn.metrics import accuracy_score\n",
    "\n",
    "from sklearn.ensemble import RandomForestClassifier\n",
    "from sklearn.datasets import make_classification\n",
    "from sklearn.ensemble import RandomForestRegressor\n",
    "# import eli5\n",
    "# from eli5.sklearn import PermutationImportance\n",
    "import numpy as np\n",
    "from sklearn.ensemble import RandomForestRegressor\n",
    "from sklearn.model_selection import cross_val_score\n",
    "import statistics\n",
    "from sklearn import metrics\n",
    "from sklearn.ensemble import AdaBoostClassifier\n",
    "from sklearn.datasets import make_classification\n",
    "\n",
    "#import packages for decision tree\n",
    "from sklearn import tree\n",
    "from sklearn.tree import plot_tree\n",
    "clf = tree.DecisionTreeClassifier()\n",
    "clr = tree.DecisionTreeRegressor()\n",
    "# import graphviz \n",
    "\n",
    "\n",
    "#import packages for random survival forest\n",
    "# from sksurv.util import Surv\n",
    "# from sksurv.ensemble import RandomSurvivalForest\n",
    "import matplotlib.pyplot as plt\n",
    "%matplotlib inline\n",
    "\n",
    "#roc auc analysis\n",
    "import numpy as np\n",
    "import matplotlib.pyplot as plt\n",
    "from itertools import cycle\n",
    "from sklearn import svm, datasets\n",
    "from sklearn.metrics import roc_curve, auc\n",
    "from sklearn.model_selection import train_test_split\n",
    "from sklearn.preprocessing import label_binarize\n",
    "from sklearn.multiclass import OneVsRestClassifier\n",
    "from scipy import interp\n",
    "from sklearn.metrics import roc_auc_score\n",
    "from matplotlib import pyplot\n",
    "\n",
    "#correlation curves\n",
    "# import statsmodels.api as sm\n",
    "import statistics\n",
    "import seaborn as sns\n",
    "sns.set(style=\"whitegrid\")\n",
    "from scipy.stats import pearsonr\n",
    "from scipy.stats import spearmanr\n",
    "import matplotlib.pyplot as plt\n",
    "%matplotlib inline\n",
    "import os\n",
    "from random import seed\n",
    "from random import random"
   ]
  },
  {
   "cell_type": "code",
   "execution_count": 11,
   "id": "22af2cae",
   "metadata": {},
   "outputs": [
    {
     "name": "stderr",
     "output_type": "stream",
     "text": [
      "/home/pchati/.local/lib/python3.10/site-packages/lofo/lofo_importance.py:3: TqdmWarning: IProgress not found. Please update jupyter and ipywidgets. See https://ipywidgets.readthedocs.io/en/stable/user_install.html\n",
      "  from tqdm.autonotebook import tqdm\n"
     ]
    }
   ],
   "source": [
    "from sklearn.model_selection import KFold\n",
    "from sklearn.metrics import make_scorer, mean_absolute_error\n",
    "from lofo import LOFOImportance, Dataset, plot_importance\n",
    "from itertools import tee\n",
    "from sklearn import svm\n",
    "from sklearn.metrics import mean_squared_error"
   ]
  },
  {
   "cell_type": "code",
   "execution_count": 156,
   "id": "fba55b7f",
   "metadata": {},
   "outputs": [],
   "source": [
    "from matplotlib.patches import Ellipse\n",
    "import matplotlib.transforms as transforms\n",
    "from pandas_profiling import ProfileReport\n",
    "from sklearn.preprocessing import MinMaxScaler"
   ]
  },
  {
   "cell_type": "code",
   "execution_count": 1,
   "id": "8bc33d1f",
   "metadata": {
    "scrolled": true
   },
   "outputs": [],
   "source": [
    "# pip install ipywidgets\n",
    "# pip install pandas-profiling"
   ]
  },
  {
   "cell_type": "markdown",
   "id": "762fa8e9",
   "metadata": {},
   "source": [
    "### Import & Format Data"
   ]
  },
  {
   "cell_type": "code",
   "execution_count": 64,
   "id": "6f45b6e1",
   "metadata": {},
   "outputs": [],
   "source": [
    "# import data\n",
    "data=pd.read_excel(\"Integrated_Data.xlsx\")"
   ]
  },
  {
   "cell_type": "code",
   "execution_count": 65,
   "id": "af1c265c",
   "metadata": {},
   "outputs": [],
   "source": [
    "# get columns\n",
    "cols=list(data.columns.values)"
   ]
  },
  {
   "cell_type": "code",
   "execution_count": 66,
   "id": "8d190110",
   "metadata": {},
   "outputs": [],
   "source": [
    "# drop na countries from density columns\n",
    "data_f=data.dropna(subset=['density_2022', 'density_2016'])"
   ]
  },
  {
   "cell_type": "code",
   "execution_count": 67,
   "id": "3e41d8de",
   "metadata": {},
   "outputs": [
    {
     "name": "stderr",
     "output_type": "stream",
     "text": [
      "/tmp/ipykernel_2236830/3051468501.py:2: SettingWithCopyWarning: \n",
      "A value is trying to be set on a copy of a slice from a DataFrame.\n",
      "Try using .loc[row_indexer,col_indexer] = value instead\n",
      "\n",
      "See the caveats in the documentation: https://pandas.pydata.org/pandas-docs/stable/user_guide/indexing.html#returning-a-view-versus-a-copy\n",
      "  data_f[\"Density_Diff_2022_2016\"]=data_f['density_2022']-data_f['density_2016']\n"
     ]
    }
   ],
   "source": [
    "# compute difference\n",
    "data_f[\"Density_Diff_2022_2016\"]=data_f['density_2022']-data_f['density_2016']"
   ]
  },
  {
   "cell_type": "code",
   "execution_count": 68,
   "id": "49502300",
   "metadata": {},
   "outputs": [],
   "source": [
    "# keep columns\n",
    "keepCols=['country_code',\n",
    " 'country',\n",
    " 'whoregion',\n",
    " 'type',\n",
    " 'income_fy23',\n",
    " 'income_broad_fy23',\n",
    " 'populationquartile_2021',\n",
    " 'country_war',\n",
    " 'age0-14_%',\n",
    " 'age0-14_%_yr',\n",
    " 'age15-65+_%',\n",
    " 'age15-65_%_yr',\n",
    " 'age65+_%',\n",
    " 'age65+_%_yr',\n",
    " 'people_per_sqkm',\n",
    " 'people_per_sqkm_yr',\n",
    " 'populationgrowth_%',\n",
    " 'populationgrowth_%_yr',\n",
    " 'urbanpopulation_%oftotal',\n",
    " 'urbanpopulation_%oftotal_yr',\n",
    " 'urbanpopulationgrowth_%',\n",
    " 'urbanpopulationgrowth_%_yr',\n",
    " 'ruralpopulation_%oftotal',\n",
    " 'ruralpopulation_%oftotal_yr',\n",
    " 'ruralpopulationgrowth_%',\n",
    " 'ruralpopulationgrowth_%_yr',\n",
    " 'schoolenrollment_secondary_female_%',\n",
    " 'schoolenrollment_secondary_female_%_yr',\n",
    " 'schoolenrollment_secondary_male_%',\n",
    " 'schoolenrollment_secondary_male_%_yr',\n",
    " 'gdp_percapita_lcu',\n",
    " 'gdp_percapita_lcu_yr',\n",
    " 'gdpgrowth_%',\n",
    " 'gdpgrowth_%_yr',\n",
    " 'deathrate_per1000',\n",
    " 'deathrate_per1000_year',\n",
    " 'mortality_rta_per100000',\n",
    " 'mortality_rta_per100000_yr',\n",
    " 'physicians_per1000',\n",
    " 'physicians_per1000_yr',\n",
    " 'surgicalprocedures_per100000',\n",
    " 'surgicalprocedures_per100000_yr',\n",
    " 'risk_impoverishing_surgicalcare_%',\n",
    " 'risk_impoverishing_surgicalcare_%_yr',\n",
    " 'risk_catastrophic_surgicalcare_%',\n",
    " 'risk_catastrophic_surgicalcare_%_yr',\n",
    " 'pushedbelow_60%_poverty_healthcareexpenditure_%',\n",
    " 'pushedbelow_60%_poverty_healthcareexpenditure_%_yr',\n",
    " 'healthexpenditure_%ofgdp',\n",
    " 'healthexpenditure_%ofgdp_yr',\n",
    " 'healthexpenditure_percapita_usd',\n",
    " 'healthexpenditure_percapita_usd_yr',\n",
    " 'outofpocketexpenditure_%currenthealthexpenditure',\n",
    " 'outofpocketexpenditure_%currenthealthexpenditure_yr',\n",
    " 'outofpocketexpenditure_over25%householdincome_%ofpeople',\n",
    " 'outofpocketexpenditure_over25%householdincome_%ofpeople_yr',\n",
    " 'netofficialaidanddevassistance_2020usd',\n",
    " 'netofficialaidanddevassistance_2020usd_yr',\n",
    " 'Density_Diff_2022_2016']"
   ]
  },
  {
   "cell_type": "code",
   "execution_count": 69,
   "id": "328dee03",
   "metadata": {},
   "outputs": [],
   "source": [
    "# isolate columns\n",
    "data_f=data_f[keepCols]\n",
    "data_f=data_f[list(data_f.columns[~data_f.columns.str.endswith('yr')])]"
   ]
  },
  {
   "cell_type": "code",
   "execution_count": 70,
   "id": "8e131c61",
   "metadata": {},
   "outputs": [],
   "source": [
    "# isolate countries only\n",
    "data_f=data_f[data_f[\"type\"]==\"country\"]"
   ]
  },
  {
   "cell_type": "code",
   "execution_count": 71,
   "id": "0beda8c2",
   "metadata": {},
   "outputs": [],
   "source": [
    "# set index\n",
    "data_f=data_f.set_index(\"country_code\")"
   ]
  },
  {
   "cell_type": "code",
   "execution_count": 72,
   "id": "0da8a460",
   "metadata": {},
   "outputs": [],
   "source": [
    "# remove string columns\n",
    "data_f=data_f.drop(['country', 'whoregion', 'type'], axis=1)"
   ]
  },
  {
   "cell_type": "code",
   "execution_count": 75,
   "id": "4c5ff3ef",
   "metadata": {},
   "outputs": [],
   "source": [
    "# remove tjk\n",
    "data_f=data_f.drop(['TJK'])"
   ]
  },
  {
   "cell_type": "code",
   "execution_count": 84,
   "id": "86bb867c",
   "metadata": {},
   "outputs": [],
   "source": [
    "# pandas profile report\n",
    "profile = ProfileReport(data_f)"
   ]
  },
  {
   "cell_type": "code",
   "execution_count": 110,
   "id": "058de1aa",
   "metadata": {},
   "outputs": [],
   "source": [
    "# profile"
   ]
  },
  {
   "cell_type": "code",
   "execution_count": 107,
   "id": "c06f5c65",
   "metadata": {},
   "outputs": [],
   "source": [
    "# make income numerical\n",
    "data_f['income_fy23']=data_f['income_fy23'].replace({'L':1, 'LM':2, 'UM':3, 'H':4})\n",
    "data_f=data_f.drop(['income_broad_fy23'], axis=1)"
   ]
  },
  {
   "cell_type": "code",
   "execution_count": 113,
   "id": "bcc7932a",
   "metadata": {},
   "outputs": [],
   "source": [
    "# drop error col\n",
    "data_f=data_f.drop(['deathrate_per1000_year'], axis=1)"
   ]
  },
  {
   "cell_type": "code",
   "execution_count": 125,
   "id": "1be023d4",
   "metadata": {},
   "outputs": [],
   "source": [
    "# format columns\n",
    "data_f.columns=data_f.columns.str.replace('%', 'percent')\n",
    "data_f.columns=data_f.columns.str.replace('-', 'to')\n",
    "data_f.columns=data_f.columns.str.replace('+', 'over')"
   ]
  },
  {
   "cell_type": "code",
   "execution_count": 126,
   "id": "ddeebb9a",
   "metadata": {},
   "outputs": [],
   "source": [
    "# save\n",
    "data_f.to_csv('Integrated_Data_Formatted.txt', sep=\"\\t\")"
   ]
  },
  {
   "cell_type": "markdown",
   "id": "f4418d82",
   "metadata": {},
   "source": [
    "### Isolate Top Univariate Cofactors"
   ]
  },
  {
   "cell_type": "code",
   "execution_count": 127,
   "id": "f68eecc6",
   "metadata": {},
   "outputs": [],
   "source": [
    "# get univariate p values\n",
    "univar_pvals=pd.read_csv(\"Univariate_LM_P_Values_Filtered.csv\", index_col=0)"
   ]
  },
  {
   "cell_type": "code",
   "execution_count": 137,
   "id": "5b406b95",
   "metadata": {},
   "outputs": [],
   "source": [
    "# isolate columns\n",
    "topFactors=list(univar_pvals.index.values)"
   ]
  },
  {
   "cell_type": "code",
   "execution_count": 138,
   "id": "2a6bf9e8",
   "metadata": {},
   "outputs": [],
   "source": [
    "# append dep var\n",
    "topFactors.append(\"Density_Diff_2022_2016\")"
   ]
  },
  {
   "cell_type": "code",
   "execution_count": 140,
   "id": "49bf17f7",
   "metadata": {},
   "outputs": [],
   "source": [
    "# filter based on top factors and drop na\n",
    "data_f_topFactors=data_f[topFactors].dropna()"
   ]
  },
  {
   "cell_type": "code",
   "execution_count": 142,
   "id": "47c6e306",
   "metadata": {},
   "outputs": [],
   "source": [
    "# save\n",
    "data_f_topFactors.to_csv(\"Integrated_Data_Formatted_TopFactors.txt\", sep=\"\\t\")"
   ]
  },
  {
   "cell_type": "code",
   "execution_count": 160,
   "id": "1b130ffa",
   "metadata": {},
   "outputs": [],
   "source": [
    "# min max scaler\n",
    "scaleCols=['populationquartile_2021',\n",
    " 'age0to14_percent',\n",
    " 'age65over_percent',\n",
    " 'deathrate_per1000',\n",
    " 'physicians_per1000',\n",
    " 'risk_impoverishing_surgicalcare_percent',\n",
    " 'healthexpenditure_percentofgdp',\n",
    " 'outofpocketexpenditure_percentcurrenthealthexpenditure',\n",
    " 'outofpocketexpenditure_over25percenthouseholdincome_percentofpeople']\n",
    "scaler = MinMaxScaler()\n",
    "data_f_topFactors_scaled = pd.DataFrame(scaler.fit_transform(data_f_topFactors), columns=data_f_topFactors.columns)"
   ]
  },
  {
   "cell_type": "code",
   "execution_count": 162,
   "id": "f2338ad4",
   "metadata": {},
   "outputs": [],
   "source": [
    "# save\n",
    "data_f_topFactors_scaled.to_csv(\"Integrated_Data_Formatted_TopFactors_Scaled.txt\", sep=\"\\t\")"
   ]
  },
  {
   "cell_type": "markdown",
   "id": "bfede208",
   "metadata": {},
   "source": [
    "### Generate Multivariate Script"
   ]
  },
  {
   "cell_type": "code",
   "execution_count": 145,
   "id": "4d10b8b2",
   "metadata": {},
   "outputs": [],
   "source": [
    "# create vectors\n",
    "multivarVectors=[]\n",
    "for fac in topFactors:\n",
    "    createVector=f\"{fac}_vector=c(data_tf_f${fac})\"\n",
    "    multivarVectors.append(createVector)"
   ]
  },
  {
   "cell_type": "code",
   "execution_count": 146,
   "id": "c2e2c31b",
   "metadata": {},
   "outputs": [
    {
     "name": "stdout",
     "output_type": "stream",
     "text": [
      "populationquartile_2021_vector=c(data_tf_f$populationquartile_2021)\n",
      "age0to14_percent_vector=c(data_tf_f$age0to14_percent)\n",
      "age65over_percent_vector=c(data_tf_f$age65over_percent)\n",
      "deathrate_per1000_vector=c(data_tf_f$deathrate_per1000)\n",
      "physicians_per1000_vector=c(data_tf_f$physicians_per1000)\n",
      "risk_impoverishing_surgicalcare_percent_vector=c(data_tf_f$risk_impoverishing_surgicalcare_percent)\n",
      "healthexpenditure_percentofgdp_vector=c(data_tf_f$healthexpenditure_percentofgdp)\n",
      "outofpocketexpenditure_percentcurrenthealthexpenditure_vector=c(data_tf_f$outofpocketexpenditure_percentcurrenthealthexpenditure)\n",
      "outofpocketexpenditure_over25percenthouseholdincome_percentofpeople_vector=c(data_tf_f$outofpocketexpenditure_over25percenthouseholdincome_percentofpeople)\n",
      "Density_Diff_2022_2016_vector=c(data_tf_f$Density_Diff_2022_2016)\n"
     ]
    }
   ],
   "source": [
    "# print vectors\n",
    "for vec in multivarVectors:\n",
    "    print(vec)"
   ]
  },
  {
   "cell_type": "code",
   "execution_count": 150,
   "id": "ac634d12",
   "metadata": {},
   "outputs": [],
   "source": [
    "# generate multivar lm input \n",
    "mvInput=\"\"\n",
    "for fac in topFactors:\n",
    "    vec=f\"{fac}_vector\"\n",
    "    mvInput=mvInput+f\"{vec} + \""
   ]
  },
  {
   "cell_type": "code",
   "execution_count": 152,
   "id": "9a0efc56",
   "metadata": {},
   "outputs": [
    {
     "data": {
      "text/plain": [
       "'populationquartile_2021_vector + age0to14_percent_vector + age65over_percent_vector + deathrate_per1000_vector + physicians_per1000_vector + risk_impoverishing_surgicalcare_percent_vector + healthexpenditure_percentofgdp_vector + outofpocketexpenditure_percentcurrenthealthexpenditure_vector + outofpocketexpenditure_over25percenthouseholdincome_percentofpeople_vector + Density_Diff_2022_2016_vector + '"
      ]
     },
     "execution_count": 152,
     "metadata": {},
     "output_type": "execute_result"
    }
   ],
   "source": [
    "mvInput"
   ]
  },
  {
   "cell_type": "code",
   "execution_count": 153,
   "id": "31cd2ce5",
   "metadata": {},
   "outputs": [],
   "source": [
    "mvInput_f = 'Density_Diff_2022_2016_vector ~ populationquartile_2021_vector + age0to14_percent_vector + age65over_percent_vector + deathrate_per1000_vector + physicians_per1000_vector + risk_impoverishing_surgicalcare_percent_vector + healthexpenditure_percentofgdp_vector + outofpocketexpenditure_percentcurrenthealthexpenditure_vector + outofpocketexpenditure_over25percenthouseholdincome_percentofpeople_vector'"
   ]
  },
  {
   "cell_type": "code",
   "execution_count": 154,
   "id": "893c3c88",
   "metadata": {},
   "outputs": [
    {
     "data": {
      "text/plain": [
       "'Density_Diff_2022_2016_vector ~ populationquartile_2021_vector + age0to14_percent_vector + age65over_percent_vector + deathrate_per1000_vector + physicians_per1000_vector + risk_impoverishing_surgicalcare_percent_vector + healthexpenditure_percentofgdp_vector + outofpocketexpenditure_percentcurrenthealthexpenditure_vector + outofpocketexpenditure_over25percenthouseholdincome_percentofpeople_vector'"
      ]
     },
     "execution_count": 154,
     "metadata": {},
     "output_type": "execute_result"
    }
   ],
   "source": [
    "mvInput_f"
   ]
  },
  {
   "cell_type": "markdown",
   "id": "dc5f9320",
   "metadata": {},
   "source": [
    "### Generate Income Plot"
   ]
  },
  {
   "cell_type": "code",
   "execution_count": 172,
   "id": "52a9d133",
   "metadata": {},
   "outputs": [],
   "source": [
    "# isolate density and income data\n",
    "data_plot=data[['country_code', 'country', 'whoregion', 'type', 'income_fy23','income_broad_fy23', 'density_2022', 'density_2018','density_2016']]"
   ]
  },
  {
   "cell_type": "code",
   "execution_count": 283,
   "id": "41df5e56",
   "metadata": {},
   "outputs": [],
   "source": [
    "# isolate countries only\n",
    "data_plot_f=data_plot[data_plot[\"type\"]==\"country\"]\n",
    "\n",
    "# remove outlier countries\n",
    "data_plot_f = data_plot_f[~data_plot_f.country_code.isin(['NRU', 'TUV', 'DMA', 'KIR', 'BOL', 'VUT', 'WSM', 'VCT', 'TON', 'MHL', 'GRD'])]"
   ]
  },
  {
   "cell_type": "code",
   "execution_count": 284,
   "id": "66f96458",
   "metadata": {},
   "outputs": [],
   "source": [
    "# fillna with 0\n",
    "# data_plot_f=data_plot.fillna(0)\n",
    "# data_plot_f=data_plot.copy()"
   ]
  },
  {
   "cell_type": "code",
   "execution_count": 285,
   "id": "0189159d",
   "metadata": {},
   "outputs": [],
   "source": [
    "# income groups\n",
    "incomeGroups=set(data_plot_f[\"income_fy23\"])"
   ]
  },
  {
   "cell_type": "code",
   "execution_count": 286,
   "id": "aa9d7ca1",
   "metadata": {},
   "outputs": [],
   "source": [
    "# average density per income group\n",
    "incomeAvgDensDict={}\n",
    "for group in incomeGroups:\n",
    "    group_df=data_plot_f[data_plot_f[\"income_fy23\"]==group]\n",
    "    group_df_16_avg=np.nanmean(group_df[\"density_2016\"])\n",
    "    group_df_18_avg=np.nanmean(group_df[\"density_2018\"])\n",
    "    group_df_22_avg=np.nanmean(group_df[\"density_2022\"])\n",
    "    incomeAvgDensDict[group]=[group_df_16_avg, group_df_18_avg, group_df_22_avg]"
   ]
  },
  {
   "cell_type": "code",
   "execution_count": 287,
   "id": "24ecaa86",
   "metadata": {},
   "outputs": [],
   "source": [
    "# create dataframe\n",
    "incomeAvgDensDF=pd.DataFrame.from_dict(incomeAvgDensDict, orient='index', columns=[\"2016\", \"2018\", \"2022\"])"
   ]
  },
  {
   "cell_type": "code",
   "execution_count": 288,
   "id": "753f3142",
   "metadata": {},
   "outputs": [],
   "source": [
    "# transpose\n",
    "incomeAvgDensDF_T=incomeAvgDensDF.T"
   ]
  },
  {
   "cell_type": "code",
   "execution_count": 289,
   "id": "f24a9597",
   "metadata": {},
   "outputs": [],
   "source": [
    "# update specific H 2018 cell with midpoint (UPDATE)\n",
    "midpoint=(incomeAvgDensDF_T.at['2016','H'] + incomeAvgDensDF_T.at['2022','H'])/2\n",
    "incomeAvgDensDF_T.at['2018','H']=midpoint"
   ]
  },
  {
   "cell_type": "code",
   "execution_count": 290,
   "id": "35529822",
   "metadata": {},
   "outputs": [
    {
     "data": {
      "text/html": [
       "<div>\n",
       "<style scoped>\n",
       "    .dataframe tbody tr th:only-of-type {\n",
       "        vertical-align: middle;\n",
       "    }\n",
       "\n",
       "    .dataframe tbody tr th {\n",
       "        vertical-align: top;\n",
       "    }\n",
       "\n",
       "    .dataframe thead th {\n",
       "        text-align: right;\n",
       "    }\n",
       "</style>\n",
       "<table border=\"1\" class=\"dataframe\">\n",
       "  <thead>\n",
       "    <tr style=\"text-align: right;\">\n",
       "      <th></th>\n",
       "      <th>LM</th>\n",
       "      <th>UM</th>\n",
       "      <th>H</th>\n",
       "      <th>L</th>\n",
       "    </tr>\n",
       "  </thead>\n",
       "  <tbody>\n",
       "    <tr>\n",
       "      <th>2016</th>\n",
       "      <td>0.259252</td>\n",
       "      <td>0.670845</td>\n",
       "      <td>1.243416</td>\n",
       "      <td>0.100573</td>\n",
       "    </tr>\n",
       "    <tr>\n",
       "      <th>2018</th>\n",
       "      <td>0.338954</td>\n",
       "      <td>0.689364</td>\n",
       "      <td>1.319140</td>\n",
       "      <td>0.067074</td>\n",
       "    </tr>\n",
       "    <tr>\n",
       "      <th>2022</th>\n",
       "      <td>0.334600</td>\n",
       "      <td>0.883532</td>\n",
       "      <td>1.394864</td>\n",
       "      <td>0.113725</td>\n",
       "    </tr>\n",
       "  </tbody>\n",
       "</table>\n",
       "</div>"
      ],
      "text/plain": [
       "            LM        UM         H         L\n",
       "2016  0.259252  0.670845  1.243416  0.100573\n",
       "2018  0.338954  0.689364  1.319140  0.067074\n",
       "2022  0.334600  0.883532  1.394864  0.113725"
      ]
     },
     "execution_count": 290,
     "metadata": {},
     "output_type": "execute_result"
    }
   ],
   "source": [
    "# disply\n",
    "incomeAvgDensDF_T"
   ]
  },
  {
   "cell_type": "code",
   "execution_count": 330,
   "id": "00b64ff4",
   "metadata": {},
   "outputs": [
    {
     "data": {
      "image/png": "[encoded data removed]",
      "text/plain": [
       "<Figure size 1800x1200 with 1 Axes>"
      ]
     },
     "metadata": {},
     "output_type": "display_data"
    }
   ],
   "source": [
    "# create fig and subplot\n",
    "fig = plt.figure()\n",
    "# fig.subplots_adjust(hspace=0.2, wspace=0.2)\n",
    "# fig.set_figheight(15)\n",
    "# fig.set_figwidth(20)\n",
    "ax = fig.add_subplot(1, 1, 1) # 2x2 or 3x2\n",
    "\n",
    "# plot data\n",
    "# sns.lineplot(data=incomeAvgDensDF_T, ax=ax)'\n",
    "# colors = ['r', 'g', 'b', 'c', 'm', 'y', 'k', 'w']\n",
    "# sns.set_style(\"white\")\n",
    "sns.lineplot(data=incomeAvgDensDF_T, x=incomeAvgDensDF_T.index, y='H', ax=ax, color='blue')\n",
    "sns.lineplot(data=incomeAvgDensDF_T, x=incomeAvgDensDF_T.index, y='UM', ax=ax, color='purple')\n",
    "sns.lineplot(data=incomeAvgDensDF_T, x=incomeAvgDensDF_T.index, y='LM', ax=ax, color='orange')\n",
    "sns.lineplot(data=incomeAvgDensDF_T, x=incomeAvgDensDF_T.index, y='L', ax=ax, color='red')\n",
    "\n",
    "\n",
    "# plot properties\n",
    "plt.grid(False)\n",
    "plt.title('Density of Neurosurgeons per Income Group', fontsize=12)\n",
    "plt.xlabel('Year', fontsize=10)\n",
    "plt.ylabel('Density of Neurosurgeons', fontsize=10)\n",
    "plt.xticks(fontsize=7)\n",
    "plt.yticks(fontsize=7)\n",
    "plt.rcParams['xtick.bottom'] = True\n",
    "plt.rcParams['ytick.left'] = True\n",
    "mpl.rcParams['grid.color'] = 'black'\n",
    "\n",
    "\n",
    "# adjust legend\n",
    "# handles, labels = ax.get_legend_handles_labels()\n",
    "# by_label = dict(zip(labels, handles))\n",
    "# lgnd = plt.legend(by_label.values(), by_label.keys(), bbox_to_anchor=(1, 1.02), fontsize=7)\n",
    "lgnd=plt.legend(title='Income', loc='upper right', bbox_to_anchor=(1.17, 1.02), fontsize=7, labels=['H', 'UM', 'LM', 'L'])\n",
    "\n",
    "\n",
    "# DO NOT INCLUDE\n",
    "# for handle in lgnd.legendHandles:\n",
    "#     handle.set_sizes([100])\n",
    "    \n",
    "# display or save plot\n",
    "# plt.show()\n",
    "plt.savefig('Neurosurgeon_Density_Income_Group_Line_Plot.png', bbox_extra_artists=(lgnd,), bbox_inches='tight')\n",
    "plt.savefig('Neurosurgeon_Density_Income_Group_Line_Plot.pdf', bbox_extra_artists=(lgnd,), bbox_inches='tight')"
   ]
  },
  {
   "cell_type": "code",
   "execution_count": null,
   "id": "a54e7059",
   "metadata": {},
   "outputs": [],
   "source": []
  }
 ],
 "metadata": {
  "kernelspec": {
   "display_name": "Python 3 (ipykernel)",
   "language": "python",
   "name": "python3"
  },
  "language_info": {
   "codemirror_mode": {
    "name": "ipython",
    "version": 3
   },
   "file_extension": ".py",
   "mimetype": "text/x-python",
   "name": "python",
   "nbconvert_exporter": "python",
   "pygments_lexer": "ipython3",
   "version": "3.10.6"
  }
 },
 "nbformat": 4,
 "nbformat_minor": 5
}
