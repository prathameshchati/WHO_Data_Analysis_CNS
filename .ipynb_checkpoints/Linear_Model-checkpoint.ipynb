{
 "cells": [
  {
   "cell_type": "markdown",
   "id": "5bbd1858",
   "metadata": {},
   "source": [
    "### Import Packages"
   ]
  },
  {
   "cell_type": "code",
   "execution_count": 8,
   "id": "9be46e89",
   "metadata": {},
   "outputs": [],
   "source": [
    "library(tidyr)"
   ]
  },
  {
   "cell_type": "markdown",
   "id": "df34099b",
   "metadata": {},
   "source": [
    "### Import Data"
   ]
  },
  {
   "cell_type": "code",
   "execution_count": 9,
   "id": "cba54740",
   "metadata": {},
   "outputs": [],
   "source": [
    "data=read.delim(\"Integrated_Data_Formatted.txt\", header = TRUE, sep = \"\\t\", dec = \".\")\n",
    "data_f <- data[,-1]\n",
    "rownames(data_f) <- data[,1]"
   ]
  },
  {
   "cell_type": "markdown",
   "id": "6f339ee8",
   "metadata": {},
   "source": [
    "### Functions"
   ]
  },
  {
   "cell_type": "code",
   "execution_count": 1,
   "id": "39a29942",
   "metadata": {},
   "outputs": [],
   "source": [
    "# extract p-value from model\n",
    "overall_p <- function(my_model) {\n",
    "    f <- summary(my_model)$fstatistic\n",
    "    p <- pf(f[1],f[2],f[3],lower.tail=F)\n",
    "    attributes(p) <- NULL\n",
    "    return(p)\n",
    "}"
   ]
  },
  {
   "cell_type": "markdown",
   "id": "5775e37d",
   "metadata": {},
   "source": [
    "### Univariate Regression Model"
   ]
  },
  {
   "cell_type": "code",
   "execution_count": null,
   "id": "97e981df",
   "metadata": {},
   "outputs": [],
   "source": [
    "tissueTypes = list.files(path=\"dNdS_Input_Files\", pattern=NULL, all.files=FALSE,full.names=FALSE)\n",
    "for(tissue in tissueTypes) {\n",
    "    tissueFP = file.path(\"dNdS_Input_Files\", tissue)\n",
    "    tissueFiles = list.files(path=tissueFP, pattern=NULL, all.files=FALSE,full.names=FALSE)\n",
    "    for (tissueFile in tissueFiles) {\n",
    "        \n",
    "        # get pid\n",
    "        splitOne = str_split(tissueFile, \"_\", simplify = TRUE)\n",
    "        pidStr = splitOne[2]\n",
    "        splitTwo = str_split(pidStr, \"PID\", simplify = TRUE)\n",
    "        pid = splitTwo[2]\n",
    "        \n",
    "        # function inputs\n",
    "        mutFP = file.path(\"dNdS_Input_Files\", tissue, tissueFile)\n",
    "        mut = read.csv(mutFP)\n",
    "        print(tissue)\n",
    "        print(pid)\n",
    "        outputFP <- file.path(\"dNdS_Output_Files\", tissue, pid)\n",
    "        selcvFP = file.path(outputFP, \"selcv.csv\")\n",
    "        annotmutsFP = file.path(outputFP, \"annotmuts.csv\")\n",
    "        globaldndsFP = file.path(outputFP, \"globaldnds.csv\")\n",
    "        subThetaFP = file.path(outputFP, \"subTheta.csv\")    \n",
    "        \n",
    "        # run function\n",
    "        dNdScvFunction(mut, outputFP, selcvFP, annotmutsFP, globaldndsFP, subThetaFP)\n",
    "        \n",
    "        \n",
    "#         outputFPList <- list(tissue,'_','PID', pid,'_dNdS_Global_Output.csv')\n",
    "#         globalOutputName = paste(globalOutputNameList, collapse = '')\n",
    "#         print(globalOutputName)\n",
    "\n",
    "    }\n",
    "    #     print(files)\n",
    "\n",
    "}\n",
    "\n",
    "li = list('java','python')\n",
    "li2 <- append(li,'r')\n",
    "print(li2)\n"
   ]
  },
  {
   "cell_type": "code",
   "execution_count": null,
   "id": "5c5bd211",
   "metadata": {},
   "outputs": [],
   "source": [
    "\n",
    "data_f[!is.na(data_f$science),]\n"
   ]
  },
  {
   "cell_type": "code",
   "execution_count": 2,
   "id": "fccb66a4",
   "metadata": {},
   "outputs": [],
   "source": [
    "p_val_list=list()\n",
    "model <- lm(Density_Diff_2022_2016 ~ covar)\n",
    "summary(model)\n",
    "p_val=overall_p(model)\n",
    "p_val_list=append(p_val_list,p_val)"
   ]
  },
  {
   "cell_type": "code",
   "execution_count": null,
   "id": "488759f1",
   "metadata": {},
   "outputs": [],
   "source": [
    "p_val_list=list()\n",
    "for covar in colFactors:\n",
    "    model <- lm(Density_Diff_2022_2016 ~ covar)\n",
    "    summary(model)\n",
    "    p_val=overall_p(model)\n",
    "    p_val_list=append(p_val_list,p_val)\n"
   ]
  }
 ],
 "metadata": {
  "kernelspec": {
   "display_name": "R",
   "language": "R",
   "name": "ir"
  },
  "language_info": {
   "codemirror_mode": "r",
   "file_extension": ".r",
   "mimetype": "text/x-r-source",
   "name": "R",
   "pygments_lexer": "r",
   "version": "4.3.0"
  }
 },
 "nbformat": 4,
 "nbformat_minor": 5
}
